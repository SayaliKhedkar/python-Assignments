{
 "cells": [
  {
   "cell_type": "markdown",
   "id": "383b0820",
   "metadata": {},
   "source": [
    "# Program to enter a num between (1-12) and print respective month."
   ]
  },
  {
   "cell_type": "code",
   "execution_count": 3,
   "id": "b7ad05cc",
   "metadata": {},
   "outputs": [
    {
     "name": "stdout",
     "output_type": "stream",
     "text": [
      "enter num between 1-12:9\n",
      "september\n"
     ]
    }
   ],
   "source": [
    "n=int(input('enter num between 1-12:'))\n",
    "if n==1:\n",
    "    print(\"january\")\n",
    "elif n==2:\n",
    "    print(\"feburary\")\n",
    "elif n==3:\n",
    "    print(\"march\")\n",
    "elif n==4:\n",
    "    print(\"april\")\n",
    "elif n==5:\n",
    "    print(\"may\")\n",
    "elif n==6:\n",
    "    print(\"june\")\n",
    "elif n==7:\n",
    "    print(\"july\")\n",
    "elif n==8:\n",
    "    print(\"august\")\n",
    "elif n==9:\n",
    "    print(\"september\")\n",
    "elif n==10:\n",
    "    print(\"octomber\")\n",
    "elif n==11:\n",
    "    print(\"november\")\n",
    "elif n==12:\n",
    "    print(\"december\")\n",
    "else:\n",
    "    print(\"no output\")"
   ]
  },
  {
   "cell_type": "markdown",
   "id": "4029e7bc",
   "metadata": {},
   "source": [
    "# convert temp from celsius and fahrenhit"
   ]
  },
  {
   "cell_type": "code",
   "execution_count": 5,
   "id": "b9f0081f",
   "metadata": {},
   "outputs": [
    {
     "name": "stdout",
     "output_type": "stream",
     "text": [
      "enter temp in celcius:66.0\n",
      "temp in fahrenhit is 150.8\n"
     ]
    }
   ],
   "source": [
    "c=float(input(\"enter temp in celcius:\"))\n",
    "f=(c*9/5)+32\n",
    "print(\"temp in fahrenhit is\",f)"
   ]
  },
  {
   "cell_type": "markdown",
   "id": "f7e8e81e",
   "metadata": {},
   "source": [
    "# Program to enter the no between 1-4 and perform add ,sub,divide and product"
   ]
  },
  {
   "cell_type": "code",
   "execution_count": 7,
   "id": "de510eb1",
   "metadata": {},
   "outputs": [
    {
     "name": "stdout",
     "output_type": "stream",
     "text": [
      "Enter first number: 9\n",
      "Enter second number: 8\n",
      "1. Addition 2.Subtract 3.Multiplication 4.Division\n",
      "Enter your choice: 3\n",
      "Multiplication of 9 and 8 = 72\n"
     ]
    }
   ],
   "source": [
    "a = int(input(\"Enter first number: \")) \n",
    "b = int(input(\"Enter second number: \")) \n",
    "print(\"1. Addition 2.Subtract 3.Multiplication 4.Division\") \n",
    "choice = int(input(\"Enter your choice: \")) \n",
    "if(choice == 1): \n",
    "    print(\"Addition of {} and {} = {}\".format(a, b, a+b)) \n",
    "elif(choice == 2): \n",
    "    print(\"Subtraction of {} and {} = {}\".format(a, b, a-b)) \n",
    "elif(choice == 3): \n",
    "    print(\"Multiplication of {} and {} = {}\".format(a, b, a*b)) \n",
    "elif(choice == 4): \n",
    "    print(\"Division of {} and {} = {}\".format(a, b, a/b)) \n",
    "else: \n",
    "    print(\"No output\")"
   ]
  },
  {
   "cell_type": "markdown",
   "id": "b95e8095",
   "metadata": {},
   "source": [
    "# check if it square or not¶"
   ]
  },
  {
   "cell_type": "code",
   "execution_count": 1,
   "id": "a1df1e7a",
   "metadata": {},
   "outputs": [
    {
     "name": "stdout",
     "output_type": "stream",
     "text": [
      "Enter length 7\n",
      "Enter breadth 8\n",
      "No, its a rectangle\n"
     ]
    }
   ],
   "source": [
    "lenght=int(input(\"Enter length \"))\n",
    "breadth=int(input(\"Enter breadth \"))\n",
    "if lenght == breadth:\n",
    "    print(\"Yes, it is square\")\n",
    "else:\n",
    "    print(\"No, its a rectangle\")"
   ]
  },
  {
   "cell_type": "markdown",
   "id": "855e5408",
   "metadata": {},
   "source": [
    "# check for net bonus amount"
   ]
  },
  {
   "cell_type": "code",
   "execution_count": 2,
   "id": "94fedc00",
   "metadata": {},
   "outputs": [
    {
     "name": "stdout",
     "output_type": "stream",
     "text": [
      "Enter a Salary50000\n",
      "Enter a Exper in years7\n",
      "Net bonus Amount 2500.0\n"
     ]
    }
   ],
   "source": [
    "n=int(input(\"Enter a Salary\"))\n",
    "m=int(input(\"Enter a Exper in years\"))\n",
    "N=n*0.05\n",
    "if m>=5:\n",
    "    print(\"Net bonus Amount\", N)\n",
    "else:\n",
    "    print(\"NO bonus\")"
   ]
  },
  {
   "cell_type": "markdown",
   "id": "6c661b20",
   "metadata": {},
   "source": [
    "# Determine oldest and youngest among three people"
   ]
  },
  {
   "cell_type": "code",
   "execution_count": 3,
   "id": "e69b24b3",
   "metadata": {},
   "outputs": [
    {
     "name": "stdout",
     "output_type": "stream",
     "text": [
      "Enter first age :7\n",
      "Enter second age :56\n",
      "third age :87\n",
      "Oldest is 87\n"
     ]
    }
   ],
   "source": [
    "f = int(input(\"Enter first age :\"))\n",
    "s = int(input(\"Enter second age :\"))\n",
    "t = int(input(\"third age :\"))\n",
    "if f >= s and f >= t:\n",
    "    print(\"Oldest is\", f)\n",
    "elif s >= f and s >= t:\n",
    "    print(\"Oldest is\", s)\n",
    "elif t >= f and t >= s:\n",
    "    print(\"Oldest is\", t)\n",
    "else:\n",
    "    print(\"All are same\")"
   ]
  },
  {
   "cell_type": "code",
   "execution_count": null,
   "id": "49c7fcf6",
   "metadata": {},
   "outputs": [],
   "source": []
  }
 ],
 "metadata": {
  "kernelspec": {
   "display_name": "Python 3 (ipykernel)",
   "language": "python",
   "name": "python3"
  },
  "language_info": {
   "codemirror_mode": {
    "name": "ipython",
    "version": 3
   },
   "file_extension": ".py",
   "mimetype": "text/x-python",
   "name": "python",
   "nbconvert_exporter": "python",
   "pygments_lexer": "ipython3",
   "version": "3.9.12"
  }
 },
 "nbformat": 4,
 "nbformat_minor": 5
}
