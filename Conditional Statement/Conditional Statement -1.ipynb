{
 "cells": [
  {
   "cell_type": "markdown",
   "id": "8abed5fb",
   "metadata": {},
   "source": [
    "# Program to check Even or Odd"
   ]
  },
  {
   "cell_type": "code",
   "execution_count": 1,
   "id": "d6721dcd",
   "metadata": {},
   "outputs": [
    {
     "name": "stdout",
     "output_type": "stream",
     "text": [
      "enter num:5\n",
      "number is odd\n"
     ]
    }
   ],
   "source": [
    "#Even or Odd\n",
    "num = int(input('enter num:'))\n",
    "if num%2==0:\n",
    "    print(\"number is even\")\n",
    "else:\n",
    "    print(\"number is odd\")"
   ]
  },
  {
   "cell_type": "markdown",
   "id": "03ee245a",
   "metadata": {},
   "source": [
    "# Program to check Vowel or consonant"
   ]
  },
  {
   "cell_type": "code",
   "execution_count": 2,
   "id": "9107e021",
   "metadata": {},
   "outputs": [
    {
     "name": "stdout",
     "output_type": "stream",
     "text": [
      "enter character:y\n",
      "Consonant\n"
     ]
    }
   ],
   "source": [
    "#Vowel or Consonant\n",
    "char = str(input('enter character:'))\n",
    "if (char=='a') or (char=='e') or (char=='i') or (char=='o') or (char=='u'):\n",
    "    print(\"Vowel\")\n",
    "else:\n",
    "    print(\"Consonant\")"
   ]
  },
  {
   "cell_type": "markdown",
   "id": "3c98dce9",
   "metadata": {},
   "source": [
    "# Program to check Eligibility for vote"
   ]
  },
  {
   "cell_type": "code",
   "execution_count": 4,
   "id": "38a313d8",
   "metadata": {},
   "outputs": [
    {
     "name": "stdout",
     "output_type": "stream",
     "text": [
      "enter age of person:53\n",
      "person is eligible to vote\n"
     ]
    }
   ],
   "source": [
    "#Eligibilty for Vote\n",
    "age = int(input('enter age of person:'))\n",
    "if age<18:\n",
    "    print(\"person is not eligible for vote\")\n",
    "else:\n",
    "    print(\"person is eligible to vote\")"
   ]
  },
  {
   "cell_type": "markdown",
   "id": "afaf1a6c",
   "metadata": {},
   "source": [
    "# Program to check whether no is Positive , Negative or Zero"
   ]
  },
  {
   "cell_type": "code",
   "execution_count": 6,
   "id": "9b149090",
   "metadata": {},
   "outputs": [
    {
     "name": "stdout",
     "output_type": "stream",
     "text": [
      "enter num:8\n",
      "Positive number\n"
     ]
    }
   ],
   "source": [
    "#Positive, Negative or Zero\n",
    "num = int(input('enter num:'))\n",
    "if num==0:\n",
    "    print(\"Zero\")\n",
    "elif num>0:\n",
    "    print(\"Positive number\")\n",
    "else:\n",
    "    print(\"Negative number\")"
   ]
  },
  {
   "cell_type": "markdown",
   "id": "9661efc3",
   "metadata": {},
   "source": [
    "# Program to check whether year is Leap year or not "
   ]
  },
  {
   "cell_type": "code",
   "execution_count": 7,
   "id": "667b3082",
   "metadata": {},
   "outputs": [
    {
     "name": "stdout",
     "output_type": "stream",
     "text": [
      "enter year:2014\n",
      "Not Leap Year\n"
     ]
    }
   ],
   "source": [
    "#Leap year or not\n",
    "year = int(input('enter year:'))\n",
    "if year%4==0:\n",
    "    print(\"Leap Year\")\n",
    "else:\n",
    "    print(\"Not Leap Year\")"
   ]
  },
  {
   "cell_type": "markdown",
   "id": "e6e504b2",
   "metadata": {},
   "source": [
    "# Program to check whether triangle is equilateral,isosceles or scalene."
   ]
  },
  {
   "cell_type": "code",
   "execution_count": 8,
   "id": "54244355",
   "metadata": {},
   "outputs": [
    {
     "name": "stdout",
     "output_type": "stream",
     "text": [
      "enter first side of triangle5\n",
      "enter second side of triangle5\n",
      "enter third side of triangle5\n",
      "Equilateral triangle\n"
     ]
    }
   ],
   "source": [
    "#Types of triangle\n",
    "a = int(input('enter first side of triangle'))\n",
    "b = int(input('enter second side of triangle'))\n",
    "c = int(input('enter third side of triangle'))\n",
    "if a==b==c:\n",
    "    print(\"Equilateral triangle\")\n",
    "elif (a!=b and a!=c and b!=c):\n",
    "    print(\"Scalene triangle\")\n",
    "else:\n",
    "    print(\"Isosceles triangle\")"
   ]
  },
  {
   "cell_type": "markdown",
   "id": "32bed573",
   "metadata": {},
   "source": [
    "# Program to check profit or loss."
   ]
  },
  {
   "cell_type": "code",
   "execution_count": 9,
   "id": "3291b6fa",
   "metadata": {},
   "outputs": [
    {
     "name": "stdout",
     "output_type": "stream",
     "text": [
      "enter cost price of the product:23\n",
      "enter selling price of the product:56\n",
      "Profit\n"
     ]
    }
   ],
   "source": [
    "#Profit or Loss\n",
    "CP = int(input('enter cost price of the product:'))\n",
    "SP = int(input('enter selling price of the product:'))\n",
    "if SP > CP:\n",
    "    print(\"Profit\")\n",
    "elif SP < CP:\n",
    "    print(\"Loss\")\n",
    "else:\n",
    "    print(\"No loss no profit\")"
   ]
  },
  {
   "cell_type": "code",
   "execution_count": null,
   "id": "3c213450",
   "metadata": {},
   "outputs": [],
   "source": []
  }
 ],
 "metadata": {
  "kernelspec": {
   "display_name": "Python 3 (ipykernel)",
   "language": "python",
   "name": "python3"
  },
  "language_info": {
   "codemirror_mode": {
    "name": "ipython",
    "version": 3
   },
   "file_extension": ".py",
   "mimetype": "text/x-python",
   "name": "python",
   "nbconvert_exporter": "python",
   "pygments_lexer": "ipython3",
   "version": "3.9.12"
  }
 },
 "nbformat": 4,
 "nbformat_minor": 5
}
