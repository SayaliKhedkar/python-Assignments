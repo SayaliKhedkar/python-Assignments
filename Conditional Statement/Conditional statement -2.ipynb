{
 "cells": [
  {
   "cell_type": "markdown",
   "id": "36c780ca",
   "metadata": {},
   "source": [
    "# Program to print greatest number b/w 2 numbers"
   ]
  },
  {
   "cell_type": "code",
   "execution_count": 1,
   "id": "32ca4c21",
   "metadata": {},
   "outputs": [
    {
     "name": "stdout",
     "output_type": "stream",
     "text": [
      "enter first num:4\n",
      "enter second num:6\n",
      "Greatest number = 6\n"
     ]
    }
   ],
   "source": [
    "n1 = int(input('enter first num:'))\n",
    "n2 = int(input('enter second num:'))\n",
    "if n1>n2:\n",
    "    print(\"Greatest number =\", n1)\n",
    "elif n1<n2:\n",
    "    print(\"Greatest number =\", n2)\n",
    "else:\n",
    "    print(\"Both are equal\")"
   ]
  },
  {
   "cell_type": "markdown",
   "id": "7a4636a4",
   "metadata": {},
   "source": [
    "# Program to print  Smallest number b/w 2 numbers"
   ]
  },
  {
   "cell_type": "code",
   "execution_count": 2,
   "id": "e3d79760",
   "metadata": {},
   "outputs": [
    {
     "name": "stdout",
     "output_type": "stream",
     "text": [
      "enter first num:2\n",
      "enter second num:3\n",
      "Smallest number = 2\n"
     ]
    }
   ],
   "source": [
    "n1 = int(input('enter first num:'))\n",
    "n2 = int(input('enter second num:'))\n",
    "if n1<n2:\n",
    "    print(\"Smallest number =\", n1)\n",
    "elif n2<n1:\n",
    "    print(\"Smallest number =\", n2)\n",
    "else:\n",
    "    print(\"Both are equal\")"
   ]
  },
  {
   "cell_type": "markdown",
   "id": "4b52eace",
   "metadata": {},
   "source": [
    "# Program to print greatest number among 3 numbers"
   ]
  },
  {
   "cell_type": "code",
   "execution_count": 4,
   "id": "46b8dfee",
   "metadata": {},
   "outputs": [
    {
     "name": "stdout",
     "output_type": "stream",
     "text": [
      "enter first num:7\n",
      "enter second num:9\n",
      "enter third num:5\n",
      "Greatest number = 9\n"
     ]
    }
   ],
   "source": [
    "n1 = int(input('enter first num:'))\n",
    "n2 = int(input('enter second num:'))\n",
    "n3 = int(input('enter third num:'))\n",
    "if (n1>n2 and n1>n3):\n",
    "    print(\"Greatest number =\", n1)\n",
    "elif (n2>n1 and n2>n3):\n",
    "    print(\"Greatest number =\", n2)\n",
    "else:\n",
    "    print(\"Greatest number =\", n3)"
   ]
  },
  {
   "cell_type": "markdown",
   "id": "387c550f",
   "metadata": {},
   "source": [
    "# Program to print smallest number among 3 numbers"
   ]
  },
  {
   "cell_type": "code",
   "execution_count": 5,
   "id": "e1c7342d",
   "metadata": {},
   "outputs": [
    {
     "name": "stdout",
     "output_type": "stream",
     "text": [
      "enter first num:7\n",
      "enter second num:8\n",
      "enter third num:3\n",
      "Smallest number = 3\n"
     ]
    }
   ],
   "source": [
    "n1 = int(input('enter first num:'))\n",
    "n2 = int(input('enter second num:'))\n",
    "n3 = int(input('enter third num:'))\n",
    "if (n1<n2 and n1<n3):\n",
    "    print(\"Smallest number =\", n1)\n",
    "elif (n2<n1 and n2<n3):\n",
    "    print(\"Smallest number =\", n2)\n",
    "else:\n",
    "    print(\"Smallest number =\", n3)"
   ]
  },
  {
   "cell_type": "markdown",
   "id": "70b73734",
   "metadata": {},
   "source": [
    "# Program to calculate roots of quadratic equation"
   ]
  },
  {
   "cell_type": "code",
   "execution_count": 7,
   "id": "029e1521",
   "metadata": {},
   "outputs": [
    {
     "name": "stdout",
     "output_type": "stream",
     "text": [
      "Enter value of a = 9\n",
      "Enter value of b = 16\n",
      "Enter value of c = 36\n",
      "Roots of quadratic equation is\n",
      "  (-0.8888888888888888+1.7916128329552332j) \n",
      " (-0.8888888888888891-1.7916128329552332j)\n"
     ]
    }
   ],
   "source": [
    "a=int(input(\"Enter value of a = \"))\n",
    "b=int(input('Enter value of b = '))\n",
    "c=int(input('Enter value of c = '))\n",
    "r1 = (-b+((b**2)-4*a*c)**0.5)/(2*a)\n",
    "r2 = (-b-((b**2)-4*a*c)**0.5)/(2*a)\n",
    "print(\"Roots of quadratic equation is\\n \",r1,'\\n',r2)"
   ]
  },
  {
   "cell_type": "markdown",
   "id": "be6f14dc",
   "metadata": {},
   "source": [
    "# Program to enter to number between (1-7) and print Respective day of week."
   ]
  },
  {
   "cell_type": "code",
   "execution_count": 8,
   "id": "82da09e3",
   "metadata": {},
   "outputs": [
    {
     "name": "stdout",
     "output_type": "stream",
     "text": [
      "Enter number from 1-7 = 7\n",
      "Sunday\n"
     ]
    }
   ],
   "source": [
    "n=int(input('Enter number from 1-7 = '))\n",
    "if n == 1:\n",
    "    print('Monday')\n",
    "elif n==2:\n",
    "    print('Tuesday')\n",
    "elif n==3:\n",
    "    print('Wednesday')\n",
    "elif n==4:\n",
    "    print('Thursday')\n",
    "elif n==5:\n",
    "    print('Friday')\n",
    "elif n==6:\n",
    "    print('Saturday')\n",
    "elif n==7:\n",
    "    print('Sunday')\n",
    "else:\n",
    "    print('Wrong input')"
   ]
  },
  {
   "cell_type": "code",
   "execution_count": null,
   "id": "a6f35a8c",
   "metadata": {},
   "outputs": [],
   "source": []
  }
 ],
 "metadata": {
  "kernelspec": {
   "display_name": "Python 3 (ipykernel)",
   "language": "python",
   "name": "python3"
  },
  "language_info": {
   "codemirror_mode": {
    "name": "ipython",
    "version": 3
   },
   "file_extension": ".py",
   "mimetype": "text/x-python",
   "name": "python",
   "nbconvert_exporter": "python",
   "pygments_lexer": "ipython3",
   "version": "3.9.12"
  }
 },
 "nbformat": 4,
 "nbformat_minor": 5
}
