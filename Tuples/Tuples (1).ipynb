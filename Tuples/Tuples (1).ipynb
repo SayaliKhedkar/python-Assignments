{
 "cells": [
  {
   "cell_type": "markdown",
   "id": "5e5498bf",
   "metadata": {},
   "source": [
    "# Program to create a tuple"
   ]
  },
  {
   "cell_type": "code",
   "execution_count": 1,
   "id": "04f4b606",
   "metadata": {},
   "outputs": [
    {
     "name": "stdout",
     "output_type": "stream",
     "text": [
      "Enter tuple elements:786\n",
      "('7', '8', '6')\n",
      "<class 'tuple'>\n"
     ]
    }
   ],
   "source": [
    "a = tuple(input('Enter tuple elements:'))\n",
    "print(a)\n",
    "print(type(a))"
   ]
  },
  {
   "cell_type": "markdown",
   "id": "a4a7a5a2",
   "metadata": {},
   "source": [
    "# Program to create tuple with different data types"
   ]
  },
  {
   "cell_type": "code",
   "execution_count": 2,
   "id": "0ad62180",
   "metadata": {},
   "outputs": [
    {
     "name": "stdout",
     "output_type": "stream",
     "text": [
      "('sayali', 9, 6.9, False, 8.8, 'neha', 5)\n",
      "<class 'tuple'>\n"
     ]
    }
   ],
   "source": [
    "a = (\"sayali\",9,6.9,False,8.8,'neha',5)\n",
    "print(a)\n",
    "print(type(a))"
   ]
  },
  {
   "cell_type": "markdown",
   "id": "4e730760",
   "metadata": {},
   "source": [
    "# Program to add an item in tuple"
   ]
  },
  {
   "cell_type": "code",
   "execution_count": 3,
   "id": "3982dda9",
   "metadata": {},
   "outputs": [
    {
     "name": "stdout",
     "output_type": "stream",
     "text": [
      "(10, 20, 30, 40, 50, 60)\n"
     ]
    }
   ],
   "source": [
    "t = (10, 20, 30, 40, 50)\n",
    "t1 = t + (60,)\n",
    "print(t1)"
   ]
  },
  {
   "cell_type": "markdown",
   "id": "028e9324",
   "metadata": {},
   "source": [
    "# Program to create tuple with numbers and print one item"
   ]
  },
  {
   "cell_type": "code",
   "execution_count": 4,
   "id": "daeae3b8",
   "metadata": {},
   "outputs": [
    {
     "name": "stdout",
     "output_type": "stream",
     "text": [
      "Enter integers for tuple elements:987644\n",
      "('9', '8', '7', '6', '4', '4')\n",
      "any one integer item in tuple: 6\n"
     ]
    }
   ],
   "source": [
    "a = tuple(input('Enter integers for tuple elements:'))\n",
    "print(a)\n",
    "print(\"any one integer item in tuple:\", int(a[3]))"
   ]
  },
  {
   "cell_type": "markdown",
   "id": "22e815ae",
   "metadata": {},
   "source": [
    "# Program to convert tuple to a string"
   ]
  },
  {
   "cell_type": "code",
   "execution_count": 5,
   "id": "b4c195dc",
   "metadata": {},
   "outputs": [
    {
     "name": "stdout",
     "output_type": "stream",
     "text": [
      "Enter tuple elements:7865469\n",
      "('7', '8', '6', '5', '4', '6', '9')\n",
      "<class 'tuple'>\n",
      "('7', '8', '6', '5', '4', '6', '9')\n",
      "<class 'str'>\n"
     ]
    }
   ],
   "source": [
    "t = tuple(input('Enter tuple elements:'))\n",
    "print(t)\n",
    "print(type(t))\n",
    "s = str(t)\n",
    "print(s)\n",
    "print(type(s))"
   ]
  },
  {
   "cell_type": "markdown",
   "id": "dbe30f69",
   "metadata": {},
   "source": [
    "# Program to get 4th element from first & last of a tuple"
   ]
  },
  {
   "cell_type": "code",
   "execution_count": 6,
   "id": "4b21b5f2",
   "metadata": {},
   "outputs": [
    {
     "name": "stdout",
     "output_type": "stream",
     "text": [
      "Enter tuple elements:876543332\n",
      "('8', '7', '6', '5', '4', '3', '3', '3', '2')\n",
      "4th element from first: 5\n",
      "4th element from last: 3\n"
     ]
    }
   ],
   "source": [
    "t = tuple(input('Enter tuple elements:'))\n",
    "print(t)\n",
    "print('4th element from first:', t[3])\n",
    "print('4th element from last:', t[-4])"
   ]
  },
  {
   "cell_type": "code",
   "execution_count": null,
   "id": "a49e5dde",
   "metadata": {},
   "outputs": [],
   "source": []
  }
 ],
 "metadata": {
  "kernelspec": {
   "display_name": "Python 3 (ipykernel)",
   "language": "python",
   "name": "python3"
  },
  "language_info": {
   "codemirror_mode": {
    "name": "ipython",
    "version": 3
   },
   "file_extension": ".py",
   "mimetype": "text/x-python",
   "name": "python",
   "nbconvert_exporter": "python",
   "pygments_lexer": "ipython3",
   "version": "3.9.12"
  }
 },
 "nbformat": 4,
 "nbformat_minor": 5
}
