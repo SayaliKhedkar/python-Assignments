{
 "cells": [
  {
   "cell_type": "markdown",
   "id": "75e76fce",
   "metadata": {},
   "source": [
    "# write a program to convert list into tuple."
   ]
  },
  {
   "cell_type": "code",
   "execution_count": 1,
   "id": "23781eda",
   "metadata": {},
   "outputs": [
    {
     "name": "stdout",
     "output_type": "stream",
     "text": [
      "(1, 2, 3, 4, 5, 6)\n"
     ]
    }
   ],
   "source": [
    "mylist=[1,2,3,4,5,6]\n",
    "mytuple=tuple(mylist)\n",
    "print(mytuple)"
   ]
  },
  {
   "cell_type": "markdown",
   "id": "ba6d0040",
   "metadata": {},
   "source": [
    "# write a program to convert tuple into dictionary."
   ]
  },
  {
   "cell_type": "code",
   "execution_count": 2,
   "id": "8e4b845f",
   "metadata": {},
   "outputs": [
    {
     "name": "stdout",
     "output_type": "stream",
     "text": [
      "{'S': 3, 'A': 2}\n"
     ]
    }
   ],
   "source": [
    "tuple = ((3,\"S\")),((2,\"A\"))\n",
    "print(dict((y,x) for x,y in tuple))"
   ]
  },
  {
   "cell_type": "markdown",
   "id": "566801f8",
   "metadata": {},
   "source": [
    "# write a program to find length of tuple"
   ]
  },
  {
   "cell_type": "code",
   "execution_count": 4,
   "id": "9b99141c",
   "metadata": {},
   "outputs": [
    {
     "name": "stdout",
     "output_type": "stream",
     "text": [
      "3\n"
     ]
    }
   ],
   "source": [
    "my_tuple=(\"sayali\",\"sneha\",\"shiu\")\n",
    "print(len(my_tuple))"
   ]
  },
  {
   "cell_type": "markdown",
   "id": "e91be592",
   "metadata": {},
   "source": [
    "# Write a program to find the repeated items of a tuple."
   ]
  },
  {
   "cell_type": "code",
   "execution_count": 5,
   "id": "6e0bebd7",
   "metadata": {},
   "outputs": [
    {
     "name": "stdout",
     "output_type": "stream",
     "text": [
      "98 exists in tuple\n"
     ]
    }
   ],
   "source": [
    "t = (3,5,8,9,15,78,12,45,67,98)\n",
    "element= 98\n",
    "if element in t:\n",
    "    print(element,\"exists in tuple\")\n",
    "else:\n",
    "    print(element,\"does not exist in tuple\")"
   ]
  },
  {
   "cell_type": "markdown",
   "id": "a43c0d82",
   "metadata": {},
   "source": [
    "# Write a program to find the repeated items of a tuple."
   ]
  },
  {
   "cell_type": "code",
   "execution_count": 6,
   "id": "ca0762a6",
   "metadata": {},
   "outputs": [
    {
     "name": "stdout",
     "output_type": "stream",
     "text": [
      "(3, 4, 5, 6, 7, 8, 4, 4, 2, 4, 6, 4, 7, 4, 8, 9, 4, 5, 4, 5, 4, 6, 7, 84, 4, 4, 6)\n",
      "Repeated items in tuple: 11\n"
     ]
    }
   ],
   "source": [
    "tuple = 3,4,5,6,7,8,4,4,2,4,6,4,7,4,8,9,4,5,4,5,4,6,7,84,4,4,6\n",
    "print(tuple)\n",
    "count = tuple.count(4)\n",
    "print(\"Repeated items in tuple:\",count)"
   ]
  },
  {
   "cell_type": "markdown",
   "id": "b40509c8",
   "metadata": {},
   "source": [
    "# Write a program to find the index of an item of a tuple."
   ]
  },
  {
   "cell_type": "code",
   "execution_count": 7,
   "id": "2c74580b",
   "metadata": {},
   "outputs": [
    {
     "name": "stdout",
     "output_type": "stream",
     "text": [
      "welcome\n",
      "index of l: 2\n",
      "index of w: 0\n"
     ]
    }
   ],
   "source": [
    "T1 = (\"welcome\")\n",
    "print(T1)\n",
    "index = T1.index('l')\n",
    "print(\"index of l:\",index)\n",
    "index = T1.index('w')\n",
    "print(\"index of w:\",index)"
   ]
  },
  {
   "cell_type": "markdown",
   "id": "99846ace",
   "metadata": {},
   "source": [
    "# Write a program to slice a tuple."
   ]
  },
  {
   "cell_type": "code",
   "execution_count": 8,
   "id": "6dd0704e",
   "metadata": {},
   "outputs": [
    {
     "name": "stdout",
     "output_type": "stream",
     "text": [
      "('a', 'b', 'c', 'd', 'e')\n",
      "('b', 'd', 'f')\n",
      "('j', 'h')\n"
     ]
    }
   ],
   "source": [
    "tuple= ('a','b','c','d','e','f','g','h','i','j')\n",
    "print(tuple[0:5])\n",
    "print(tuple[1:7:2])\n",
    "print(tuple[-1:-5:-2])"
   ]
  },
  {
   "cell_type": "code",
   "execution_count": null,
   "id": "d79a62f9",
   "metadata": {},
   "outputs": [],
   "source": []
  }
 ],
 "metadata": {
  "kernelspec": {
   "display_name": "Python 3 (ipykernel)",
   "language": "python",
   "name": "python3"
  },
  "language_info": {
   "codemirror_mode": {
    "name": "ipython",
    "version": 3
   },
   "file_extension": ".py",
   "mimetype": "text/x-python",
   "name": "python",
   "nbconvert_exporter": "python",
   "pygments_lexer": "ipython3",
   "version": "3.9.12"
  }
 },
 "nbformat": 4,
 "nbformat_minor": 5
}
