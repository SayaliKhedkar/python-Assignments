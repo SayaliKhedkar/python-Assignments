{
 "cells": [
  {
   "cell_type": "markdown",
   "id": "8854b0ec",
   "metadata": {},
   "source": [
    "# Looping Statement-2"
   ]
  },
  {
   "cell_type": "markdown",
   "id": "5239b50e",
   "metadata": {},
   "source": [
    "# Q1)Write a programme to calculate the Factorial of a number."
   ]
  },
  {
   "cell_type": "code",
   "execution_count": 1,
   "id": "6132cbc6",
   "metadata": {},
   "outputs": [
    {
     "name": "stdout",
     "output_type": "stream",
     "text": [
      "Enter the number4\n",
      "4\n",
      "12\n",
      "24\n",
      "24\n"
     ]
    }
   ],
   "source": [
    "n=int(input('Enter the number'))\n",
    "f=1\n",
    "while n>0:\n",
    "    f=f*n\n",
    "    n=n-1\n",
    "    print(f)"
   ]
  },
  {
   "cell_type": "markdown",
   "id": "2d727a6d",
   "metadata": {},
   "source": [
    "# Q2) Write a programme for print even number from 1 to 100"
   ]
  },
  {
   "cell_type": "code",
   "execution_count": 2,
   "id": "7173f99e",
   "metadata": {},
   "outputs": [
    {
     "name": "stdout",
     "output_type": "stream",
     "text": [
      "Enter a number: 10\n",
      "2  \n",
      "4  \n",
      "6  \n",
      "8  \n",
      "10  \n"
     ]
    }
   ],
   "source": [
    "x = int(input(\"Enter a number: \"))\n",
    "i = 1\n",
    "\n",
    "while i <= x:\n",
    "    if i % 2 == 0:\n",
    "        print(i, \" \")\n",
    "    i = i + 1"
   ]
  },
  {
   "cell_type": "markdown",
   "id": "a5eb7c87",
   "metadata": {},
   "source": [
    "# Q3) Write a programme for print odd number from 1 to 100"
   ]
  },
  {
   "cell_type": "code",
   "execution_count": 3,
   "id": "dcc22ace",
   "metadata": {},
   "outputs": [
    {
     "name": "stdout",
     "output_type": "stream",
     "text": [
      "Enter a number: 10\n",
      "1  \n",
      "3  \n",
      "5  \n",
      "7  \n",
      "9  \n"
     ]
    }
   ],
   "source": [
    "x = int(input(\"Enter a number: \"))\n",
    "i = 1\n",
    "\n",
    "while i <= x:\n",
    "    if i % 2 != 0:\n",
    "        print(i, \" \")\n",
    "    i = i + 1"
   ]
  },
  {
   "cell_type": "markdown",
   "id": "1ae195d7",
   "metadata": {},
   "source": [
    "# Q4) Write a programme to check whether the number is Palindrome or not."
   ]
  },
  {
   "cell_type": "code",
   "execution_count": 4,
   "id": "f831a06f",
   "metadata": {},
   "outputs": [
    {
     "name": "stdout",
     "output_type": "stream",
     "text": [
      "Enter a number879\n",
      "The number is not Palindrome\n"
     ]
    }
   ],
   "source": [
    "n=int(input(\"Enter a number\"))\n",
    "t=n\n",
    "r=0\n",
    "while n>0:\n",
    "    d=n%10\n",
    "    r=r*10+d\n",
    "    n=n//10\n",
    "if t==r:\n",
    "    print('The number is Palindrome')\n",
    "else:\n",
    "    print('The number is not Palindrome')"
   ]
  },
  {
   "cell_type": "markdown",
   "id": "fb38b25e",
   "metadata": {},
   "source": [
    "# Q5) Write a Programme to find the factor of number."
   ]
  },
  {
   "cell_type": "code",
   "execution_count": 5,
   "id": "5958240c",
   "metadata": {},
   "outputs": [
    {
     "name": "stdout",
     "output_type": "stream",
     "text": [
      "Enter a number20\n",
      "1\n",
      "2\n",
      "4\n",
      "5\n",
      "10\n",
      "20\n",
      "is a Factor of a number\n"
     ]
    }
   ],
   "source": [
    "n=int(input('Enter a number'))\n",
    "i=0\n",
    "count=0\n",
    "for i in range(1, n+1):\n",
    "    if n%i==0:\n",
    "        print(i)\n",
    "        i=i+1\n",
    "        count=count+0\n",
    "print('is a Factor of a number')"
   ]
  },
  {
   "cell_type": "markdown",
   "id": "50b1930b",
   "metadata": {},
   "source": [
    "# Q6) Write a programme to print a reverse of a number"
   ]
  },
  {
   "cell_type": "code",
   "execution_count": 6,
   "id": "3ae22243",
   "metadata": {},
   "outputs": [
    {
     "name": "stdout",
     "output_type": "stream",
     "text": [
      "Enter a number789\n",
      "987\n"
     ]
    }
   ],
   "source": [
    "n=int(input('Enter a number'))\n",
    "r=0\n",
    "while n>0:\n",
    "    d=n%10\n",
    "    r=r*10+d\n",
    "    n=n//10\n",
    "print(r)"
   ]
  },
  {
   "cell_type": "markdown",
   "id": "8ec098fb",
   "metadata": {},
   "source": [
    "# Q7) Write a programme to print a sum of a reverese of a number."
   ]
  },
  {
   "cell_type": "code",
   "execution_count": 7,
   "id": "fcce2f46",
   "metadata": {},
   "outputs": [
    {
     "name": "stdout",
     "output_type": "stream",
     "text": [
      "Enter a number678\n",
      "Sum of a reverse of a number 21\n"
     ]
    }
   ],
   "source": [
    "n=int(input('Enter a number'))\n",
    "i=1\n",
    "sum=0\n",
    "for i in range(n):\n",
    "    d=n%10\n",
    "    sum=sum+d\n",
    "    n=n//10\n",
    "print('Sum of a reverse of a number', sum)\n"
   ]
  },
  {
   "cell_type": "markdown",
   "id": "b1df13ec",
   "metadata": {},
   "source": [
    "# Q8) Write a programme to check a number is prime or not."
   ]
  },
  {
   "cell_type": "code",
   "execution_count": 8,
   "id": "20427ef7",
   "metadata": {},
   "outputs": [
    {
     "name": "stdout",
     "output_type": "stream",
     "text": [
      "Enter a number56\n",
      "Its a prime number 56\n"
     ]
    }
   ],
   "source": [
    "n=int(input('Enter a number'))\n",
    "c=0\n",
    "for i in range(n//2+1 , 2):\n",
    "        if n%i==0:\n",
    "            c=c+1\n",
    "            break\n",
    "if c==0 and n>1:\n",
    "    print(\"Its a prime number\", n)\n",
    "else:\n",
    "    print(\"Its not a prime number\", n)"
   ]
  },
  {
   "cell_type": "markdown",
   "id": "a5fbdc16",
   "metadata": {},
   "source": [
    "# Q9) Write a programe to print the Cube of all number from 1 to given number."
   ]
  },
  {
   "cell_type": "code",
   "execution_count": 9,
   "id": "fce6dfe2",
   "metadata": {},
   "outputs": [
    {
     "name": "stdout",
     "output_type": "stream",
     "text": [
      "Enter a number 7\n",
      "Cube is  343\n"
     ]
    }
   ],
   "source": [
    "n = int(input(\"Enter a number \"))\n",
    "for i in range(n):\n",
    "    i=i+1\n",
    "print(\"Cube is \", i*i*i)"
   ]
  },
  {
   "cell_type": "markdown",
   "id": "df34894e",
   "metadata": {},
   "source": [
    "# Q10) write a program to count total number of a digit in number python"
   ]
  },
  {
   "cell_type": "code",
   "execution_count": 10,
   "id": "6ca4a54e",
   "metadata": {},
   "outputs": [
    {
     "name": "stdout",
     "output_type": "stream",
     "text": [
      "Enter a number876\n",
      "The number of digit in the number is  3\n"
     ]
    }
   ],
   "source": [
    "n=int(input('Enter a number'))\n",
    "count=0\n",
    "while n>0:\n",
    "    count=count+1\n",
    "    n=n//10\n",
    "print('The number of digit in the number is ', count)"
   ]
  },
  {
   "cell_type": "code",
   "execution_count": null,
   "id": "c2dc1549",
   "metadata": {},
   "outputs": [],
   "source": []
  }
 ],
 "metadata": {
  "kernelspec": {
   "display_name": "Python 3 (ipykernel)",
   "language": "python",
   "name": "python3"
  },
  "language_info": {
   "codemirror_mode": {
    "name": "ipython",
    "version": 3
   },
   "file_extension": ".py",
   "mimetype": "text/x-python",
   "name": "python",
   "nbconvert_exporter": "python",
   "pygments_lexer": "ipython3",
   "version": "3.9.12"
  }
 },
 "nbformat": 4,
 "nbformat_minor": 5
}
