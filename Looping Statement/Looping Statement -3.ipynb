{
 "cells": [
  {
   "cell_type": "markdown",
   "id": "fd802256",
   "metadata": {},
   "source": [
    "# Q1) write a program to count total number of a digit in number python"
   ]
  },
  {
   "cell_type": "code",
   "execution_count": 1,
   "id": "8e787207",
   "metadata": {},
   "outputs": [
    {
     "name": "stdout",
     "output_type": "stream",
     "text": [
      "Enter a number76\n",
      "The number of digit in the number is  2\n"
     ]
    }
   ],
   "source": [
    "n=int(input('Enter a number'))\n",
    "count=0\n",
    "while n>0:\n",
    "    count=count+1\n",
    "    n=n//10\n",
    "print('The number of digit in the number is ', count)"
   ]
  },
  {
   "cell_type": "markdown",
   "id": "d1de354e",
   "metadata": {},
   "source": [
    "# Q2) write a programme to print a Fibonaaci Series."
   ]
  },
  {
   "cell_type": "code",
   "execution_count": 3,
   "id": "4ca12a60",
   "metadata": {},
   "outputs": [
    {
     "name": "stdout",
     "output_type": "stream",
     "text": [
      "Enter a number6\n",
      "Fibonacci series: \n",
      "0\n",
      "1\n",
      "1\n",
      "2\n",
      "3\n",
      "5\n"
     ]
    }
   ],
   "source": [
    "n=int(input('Enter a number'))\n",
    "n1, n2 = 0, 1\n",
    "count=0\n",
    "if n<=0:\n",
    "    print('Enter a Integer')\n",
    "elif n==1:\n",
    "        print('Fibonaaci series', n , \":\")\n",
    "        print(n1)\n",
    "else:\n",
    "    print('Fibonacci series: ')\n",
    "    while count<n:\n",
    "        print(n1)\n",
    "        nth=n1+n2\n",
    "        n1=n2\n",
    "        n2=nth\n",
    "        count=count+1"
   ]
  },
  {
   "cell_type": "markdown",
   "id": "8938d68d",
   "metadata": {},
   "source": [
    "# Q3) Write a programme to check a number is Armstrong or not."
   ]
  },
  {
   "cell_type": "code",
   "execution_count": 4,
   "id": "69b266f3",
   "metadata": {},
   "outputs": [
    {
     "name": "stdout",
     "output_type": "stream",
     "text": [
      "Enter a number7\n",
      "Not a Armstrong Number 7\n"
     ]
    }
   ],
   "source": [
    "n=int(input(\"Enter a number\"))\n",
    "sum=0\n",
    "t=n\n",
    "while t>0:\n",
    "    d=t%10\n",
    "    sum=sum+d**3\n",
    "    t=t//10\n",
    "if n==sum:\n",
    "    print(\"Armstrong Number\", n)\n",
    "else:\n",
    "    print(\"Not a Armstrong Number\", n)"
   ]
  },
  {
   "cell_type": "markdown",
   "id": "fcf8de78",
   "metadata": {},
   "source": [
    "# Q4) Write a programme to check number is strong number or not."
   ]
  },
  {
   "cell_type": "code",
   "execution_count": 5,
   "id": "186f4b7b",
   "metadata": {},
   "outputs": [
    {
     "name": "stdout",
     "output_type": "stream",
     "text": [
      "Enter a number:9\n",
      "The number is not a strong number\n"
     ]
    }
   ],
   "source": [
    "sum1=0\n",
    "num=int(input(\"Enter a number:\"))\n",
    "temp=num\n",
    "while(num):\n",
    "    i=1\n",
    "    f=1\n",
    "    r=num%10\n",
    "    while(i<=r):\n",
    "        f=f*i\n",
    "        i=i+1\n",
    "    sum1=sum1+f\n",
    "    num=num//10\n",
    "if(sum1==temp):\n",
    "    print(\"The number is a strong number\")\n",
    "else:\n",
    "    print(\"The number is not a strong number\")"
   ]
  },
  {
   "cell_type": "markdown",
   "id": "53293c22",
   "metadata": {},
   "source": [
    "# Q5) Write a programme to check whether a given number is perfect or not."
   ]
  },
  {
   "cell_type": "code",
   "execution_count": 6,
   "id": "19873f46",
   "metadata": {},
   "outputs": [
    {
     "name": "stdout",
     "output_type": "stream",
     "text": [
      "Enter a number76\n",
      "76 is not a prime number\n"
     ]
    }
   ],
   "source": [
    "num = int(input(\"Enter a number\"))\n",
    "if num > 1:\n",
    "    for i in range(2, int(num/2)+1):\n",
    "        if (num % i) == 0:\n",
    "            print(num, \"is not a prime number\")\n",
    "            break\n",
    "    else:\n",
    "        print(num, \"is a prime number\")\n",
    "else:\n",
    "    print(num, \"is not a prime number\")"
   ]
  },
  {
   "cell_type": "code",
   "execution_count": null,
   "id": "339ec4f8",
   "metadata": {},
   "outputs": [],
   "source": []
  }
 ],
 "metadata": {
  "kernelspec": {
   "display_name": "Python 3 (ipykernel)",
   "language": "python",
   "name": "python3"
  },
  "language_info": {
   "codemirror_mode": {
    "name": "ipython",
    "version": 3
   },
   "file_extension": ".py",
   "mimetype": "text/x-python",
   "name": "python",
   "nbconvert_exporter": "python",
   "pygments_lexer": "ipython3",
   "version": "3.9.12"
  }
 },
 "nbformat": 4,
 "nbformat_minor": 5
}
