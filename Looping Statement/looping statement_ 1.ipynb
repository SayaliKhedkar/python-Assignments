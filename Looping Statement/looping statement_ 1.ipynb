{
 "cells": [
  {
   "cell_type": "markdown",
   "id": "339111fa",
   "metadata": {},
   "source": [
    "# looping statement -1"
   ]
  },
  {
   "cell_type": "markdown",
   "id": "26321f1d",
   "metadata": {},
   "source": [
    "# Q1)Program to print \"Hello Python\" ten times"
   ]
  },
  {
   "cell_type": "code",
   "execution_count": 1,
   "id": "43dae84a",
   "metadata": {},
   "outputs": [
    {
     "name": "stdout",
     "output_type": "stream",
     "text": [
      "Hello Python\n",
      "Hello Python\n",
      "Hello Python\n",
      "Hello Python\n",
      "Hello Python\n",
      "Hello Python\n",
      "Hello Python\n",
      "Hello Python\n",
      "Hello Python\n",
      "Hello Python\n"
     ]
    }
   ],
   "source": [
    "i=1\n",
    "while i<=10:\n",
    "    print(\"Hello Python\")\n",
    "    i=i+1"
   ]
  },
  {
   "cell_type": "markdown",
   "id": "09fbfc8c",
   "metadata": {},
   "source": [
    "# Q2)program to print no from 1 to 10"
   ]
  },
  {
   "cell_type": "code",
   "execution_count": 2,
   "id": "08d3444e",
   "metadata": {},
   "outputs": [
    {
     "name": "stdout",
     "output_type": "stream",
     "text": [
      "1\n",
      "2\n",
      "3\n",
      "4\n",
      "5\n",
      "6\n",
      "7\n",
      "8\n",
      "9\n",
      "10\n"
     ]
    }
   ],
   "source": [
    "i=1\n",
    "while i<=10:\n",
    "    print(i)\n",
    "    i=i+1"
   ]
  },
  {
   "cell_type": "markdown",
   "id": "e762f7ac",
   "metadata": {},
   "source": [
    "# Q3)program to print sum of first ten no"
   ]
  },
  {
   "cell_type": "code",
   "execution_count": 3,
   "id": "aee5701c",
   "metadata": {},
   "outputs": [
    {
     "name": "stdout",
     "output_type": "stream",
     "text": [
      "55\n"
     ]
    }
   ],
   "source": [
    "i=1\n",
    "add=0\n",
    "while i<=10:\n",
    "    add=add+i\n",
    "    i=i+1\n",
    "print(add)"
   ]
  },
  {
   "cell_type": "markdown",
   "id": "40a095ea",
   "metadata": {},
   "source": [
    "# Q4)print sum of n number"
   ]
  },
  {
   "cell_type": "code",
   "execution_count": 4,
   "id": "39e5831f",
   "metadata": {},
   "outputs": [
    {
     "name": "stdout",
     "output_type": "stream",
     "text": [
      "enter the number6\n",
      "1\n",
      "3\n",
      "6\n",
      "10\n",
      "15\n",
      "21\n"
     ]
    }
   ],
   "source": [
    "i=1\n",
    "n=int(input (\"enter the number\"))\n",
    "add=0\n",
    "while i<=n:\n",
    "    add=add+i\n",
    "    i=i+1\n",
    "    print(add)"
   ]
  },
  {
   "cell_type": "markdown",
   "id": "e8a61384",
   "metadata": {},
   "source": [
    "# Q5)program to print table of number"
   ]
  },
  {
   "cell_type": "code",
   "execution_count": 5,
   "id": "8620c113",
   "metadata": {},
   "outputs": [
    {
     "name": "stdout",
     "output_type": "stream",
     "text": [
      "enter any number7\n",
      "7 * 1 = 7\n",
      "7 * 2 = 14\n",
      "7 * 3 = 21\n",
      "7 * 4 = 28\n",
      "7 * 5 = 35\n",
      "7 * 6 = 42\n",
      "7 * 7 = 49\n",
      "7 * 8 = 56\n",
      "7 * 9 = 63\n",
      "7 * 10 = 70\n"
     ]
    }
   ],
   "source": [
    "n=int(input(\"enter any number\"))\n",
    "i=1\n",
    "while i<=10:\n",
    "    print(n,\"*\",i, \"=\",n*i)\n",
    "    i+=1"
   ]
  },
  {
   "cell_type": "markdown",
   "id": "83f3134c",
   "metadata": {},
   "source": [
    "# Q6)program to calculate factorial"
   ]
  },
  {
   "cell_type": "code",
   "execution_count": 6,
   "id": "87c8a06b",
   "metadata": {},
   "outputs": [
    {
     "name": "stdout",
     "output_type": "stream",
     "text": [
      "enter any num5\n",
      "factorial= 5\n",
      "factorial= 20\n",
      "factorial= 60\n",
      "factorial= 120\n",
      "factorial= 120\n"
     ]
    }
   ],
   "source": [
    "i=int(input(\"enter any num\"))\n",
    "fac=1\n",
    "while i>0:\n",
    "    fac=fac*i\n",
    "    i=i-1\n",
    "    print(\"factorial=\",fac)"
   ]
  },
  {
   "cell_type": "markdown",
   "id": "72ccb759",
   "metadata": {},
   "source": [
    "# Q7)print even no between 1 to 100"
   ]
  },
  {
   "cell_type": "code",
   "execution_count": 7,
   "id": "8bfec9f3",
   "metadata": {},
   "outputs": [
    {
     "name": "stdout",
     "output_type": "stream",
     "text": [
      "enter any num7\n",
      "2\n",
      "4\n",
      "6\n",
      "8\n",
      "10\n",
      "12\n",
      "14\n",
      "16\n",
      "18\n",
      "20\n",
      "22\n",
      "24\n",
      "26\n",
      "28\n",
      "30\n",
      "32\n",
      "34\n",
      "36\n",
      "38\n",
      "40\n",
      "42\n",
      "44\n",
      "46\n",
      "48\n",
      "50\n",
      "52\n",
      "54\n",
      "56\n",
      "58\n",
      "60\n",
      "62\n",
      "64\n",
      "66\n",
      "68\n",
      "70\n",
      "72\n",
      "74\n",
      "76\n",
      "78\n",
      "80\n",
      "82\n",
      "84\n",
      "86\n",
      "88\n",
      "90\n",
      "92\n",
      "94\n",
      "96\n",
      "98\n",
      "100\n"
     ]
    }
   ],
   "source": [
    "n=int(input(\"enter any num\"))\n",
    "i=2\n",
    "while i<=100:\n",
    "    if i%2==0:\n",
    "        print(i)\n",
    "    i=i+1"
   ]
  },
  {
   "cell_type": "markdown",
   "id": "af2f4487",
   "metadata": {},
   "source": [
    "# Q8)print sum of n numbers"
   ]
  },
  {
   "cell_type": "code",
   "execution_count": 8,
   "id": "03d64f99",
   "metadata": {},
   "outputs": [
    {
     "name": "stdout",
     "output_type": "stream",
     "text": [
      "enter any num5\n",
      "add= 15\n"
     ]
    }
   ],
   "source": [
    "n=int(input(\"enter any num\"))\n",
    "i=1\n",
    "add=0\n",
    "while i<=n:\n",
    "    add=add+i\n",
    "    i=i+1\n",
    "print(\"add=\",add)"
   ]
  },
  {
   "cell_type": "markdown",
   "id": "d6318db9",
   "metadata": {},
   "source": [
    "# Q9)palidrome or not"
   ]
  },
  {
   "cell_type": "code",
   "execution_count": 10,
   "id": "cbc55181",
   "metadata": {},
   "outputs": [
    {
     "name": "stdout",
     "output_type": "stream",
     "text": [
      "enter any num565\n",
      "palindrome num\n"
     ]
    }
   ],
   "source": [
    "n=int(input(\"enter any num\"))\n",
    "rev=0\n",
    "x=i\n",
    "while(i>0):\n",
    "    rev=(rev*10+i%10)\n",
    "    i=i//10\n",
    "if(x==rev):\n",
    "    print(\"palindrome num\")\n",
    "else:\n",
    "    print(\"not palindrome num\")"
   ]
  },
  {
   "cell_type": "code",
   "execution_count": null,
   "id": "8bcfcd81",
   "metadata": {},
   "outputs": [],
   "source": []
  }
 ],
 "metadata": {
  "kernelspec": {
   "display_name": "Python 3 (ipykernel)",
   "language": "python",
   "name": "python3"
  },
  "language_info": {
   "codemirror_mode": {
    "name": "ipython",
    "version": 3
   },
   "file_extension": ".py",
   "mimetype": "text/x-python",
   "name": "python",
   "nbconvert_exporter": "python",
   "pygments_lexer": "ipython3",
   "version": "3.9.12"
  }
 },
 "nbformat": 4,
 "nbformat_minor": 5
}
