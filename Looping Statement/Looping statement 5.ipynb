{
 "cells": [
  {
   "cell_type": "markdown",
   "id": "0cf1917a",
   "metadata": {},
   "source": [
    "# Program to print star pattern"
   ]
  },
  {
   "cell_type": "code",
   "execution_count": 1,
   "id": "3033f7c4",
   "metadata": {},
   "outputs": [
    {
     "name": "stdout",
     "output_type": "stream",
     "text": [
      "*\n",
      "\n",
      "**\n",
      "\n",
      "***\n",
      "\n",
      "****\n",
      "\n",
      "*****\n",
      "\n"
     ]
    }
   ],
   "source": [
    "for i in range(1,6):\n",
    "    for j in range(1,i+1):\n",
    "        print(\"*\",end=\"\")\n",
    "    print(\"\\n\")"
   ]
  },
  {
   "cell_type": "code",
   "execution_count": 2,
   "id": "edd9aaf0",
   "metadata": {},
   "outputs": [
    {
     "name": "stdout",
     "output_type": "stream",
     "text": [
      "*****\n",
      "\n",
      "****\n",
      "\n",
      "***\n",
      "\n",
      "**\n",
      "\n",
      "*\n",
      "\n"
     ]
    }
   ],
   "source": [
    "for i in range(5,0,-1):\n",
    "    for j in range(1,i+1):\n",
    "        print(\"*\",end=\"\")\n",
    "    print(\"\\n\")"
   ]
  },
  {
   "cell_type": "code",
   "execution_count": 3,
   "id": "34608d04",
   "metadata": {},
   "outputs": [
    {
     "name": "stdout",
     "output_type": "stream",
     "text": [
      "*****\n",
      "\n",
      " ****\n",
      "\n",
      "  ***\n",
      "\n",
      "   **\n",
      "\n",
      "    *\n",
      "\n"
     ]
    }
   ],
   "source": [
    "for i in range(5,0,-1):\n",
    "    for k in range(1,6-i):\n",
    "        print(\" \",end=\"\")\n",
    "    for j in range(1,i+1):\n",
    "        print(\"*\",end=\"\")\n",
    "    print(\"\\n\")"
   ]
  },
  {
   "cell_type": "code",
   "execution_count": 4,
   "id": "28c252ff",
   "metadata": {},
   "outputs": [
    {
     "name": "stdout",
     "output_type": "stream",
     "text": [
      "    *\n",
      "\n",
      "   **\n",
      "\n",
      "  ***\n",
      "\n",
      " ****\n",
      "\n",
      "*****\n",
      "\n"
     ]
    }
   ],
   "source": [
    "for i in range(1,6):\n",
    "    for k in range(1,6-i):\n",
    "        print(\" \",end=\"\")\n",
    "    for j in range(1,i+1):\n",
    "        print(\"*\",end=\"\")\n",
    "    print(\"\\n\")"
   ]
  },
  {
   "cell_type": "code",
   "execution_count": 5,
   "id": "f057a3cf",
   "metadata": {},
   "outputs": [
    {
     "name": "stdout",
     "output_type": "stream",
     "text": [
      "*****\n",
      "*****\n",
      "*****\n",
      "*****\n",
      "*****\n"
     ]
    }
   ],
   "source": [
    "for i in range(5):\n",
    "    print(\"*\"*5)"
   ]
  },
  {
   "cell_type": "code",
   "execution_count": null,
   "id": "9578ffb8",
   "metadata": {},
   "outputs": [],
   "source": []
  }
 ],
 "metadata": {
  "kernelspec": {
   "display_name": "Python 3 (ipykernel)",
   "language": "python",
   "name": "python3"
  },
  "language_info": {
   "codemirror_mode": {
    "name": "ipython",
    "version": 3
   },
   "file_extension": ".py",
   "mimetype": "text/x-python",
   "name": "python",
   "nbconvert_exporter": "python",
   "pygments_lexer": "ipython3",
   "version": "3.9.12"
  }
 },
 "nbformat": 4,
 "nbformat_minor": 5
}
