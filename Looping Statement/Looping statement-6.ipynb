{
 "cells": [
  {
   "cell_type": "markdown",
   "id": "bb097770",
   "metadata": {},
   "source": [
    "# program to print alphabet pattern using loop"
   ]
  },
  {
   "cell_type": "code",
   "execution_count": 1,
   "id": "59bd6a74",
   "metadata": {},
   "outputs": [
    {
     "name": "stdout",
     "output_type": "stream",
     "text": [
      "A \n",
      "A B \n",
      "A B C \n",
      "A B C D \n",
      "A B C D E \n"
     ]
    }
   ],
   "source": [
    "for i in range(65,5+65):\n",
    "    for j in range(65,i+1):\n",
    "        print(chr(j),end=\" \")\n",
    "    print()"
   ]
  },
  {
   "cell_type": "code",
   "execution_count": 2,
   "id": "63d12359",
   "metadata": {},
   "outputs": [
    {
     "name": "stdout",
     "output_type": "stream",
     "text": [
      "A \n",
      "B B \n",
      "C C C \n",
      "D D D D \n",
      "E E E E E \n"
     ]
    }
   ],
   "source": [
    "for i in range(5):\n",
    "    print((chr(65+i)+\" \")*(i+1))"
   ]
  },
  {
   "cell_type": "code",
   "execution_count": 3,
   "id": "232dfb1c",
   "metadata": {},
   "outputs": [
    {
     "name": "stdout",
     "output_type": "stream",
     "text": [
      "ABCDE\n",
      "ABCD\n",
      "ABC\n",
      "AB\n",
      "A\n"
     ]
    }
   ],
   "source": [
    "for i in range(5,0,-1):\n",
    "    for j in range(i):\n",
    "        print(chr(65+j),end='')\n",
    "    print()"
   ]
  },
  {
   "cell_type": "code",
   "execution_count": 4,
   "id": "2bfbb540",
   "metadata": {},
   "outputs": [
    {
     "name": "stdout",
     "output_type": "stream",
     "text": [
      "EEEEE\n",
      "DDDD\n",
      "CCC\n",
      "BB\n",
      "A\n"
     ]
    }
   ],
   "source": [
    "for i in range(5,0,-1):\n",
    "    for j in range(i):\n",
    "        print(chr(65+(i-1)),end='')\n",
    "    print()"
   ]
  },
  {
   "cell_type": "code",
   "execution_count": null,
   "id": "f1e254f8",
   "metadata": {},
   "outputs": [],
   "source": []
  }
 ],
 "metadata": {
  "kernelspec": {
   "display_name": "Python 3 (ipykernel)",
   "language": "python",
   "name": "python3"
  },
  "language_info": {
   "codemirror_mode": {
    "name": "ipython",
    "version": 3
   },
   "file_extension": ".py",
   "mimetype": "text/x-python",
   "name": "python",
   "nbconvert_exporter": "python",
   "pygments_lexer": "ipython3",
   "version": "3.9.12"
  }
 },
 "nbformat": 4,
 "nbformat_minor": 5
}
