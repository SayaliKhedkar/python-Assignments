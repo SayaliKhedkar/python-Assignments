{
 "cells": [
  {
   "cell_type": "markdown",
   "id": "f3abbf28",
   "metadata": {},
   "source": [
    "# looping statement -1"
   ]
  },
  {
   "cell_type": "markdown",
   "id": "692f15c5",
   "metadata": {},
   "source": [
    "### program to print \"Hello Python\" ten times."
   ]
  },
  {
   "cell_type": "code",
   "execution_count": null,
   "id": "6731e8f0",
   "metadata": {},
   "outputs": [],
   "source": [
    "i=1\n",
    "while i<=10:\n",
    "    print(\"Hello Python\")\n",
    "    i=i+1"
   ]
  },
  {
   "cell_type": "markdown",
   "id": "9a8a1d6e",
   "metadata": {},
   "source": [
    "# program to print no from 1 to 10"
   ]
  },
  {
   "cell_type": "code",
   "execution_count": null,
   "id": "98cf5a66",
   "metadata": {},
   "outputs": [],
   "source": [
    "i=1\n",
    "while i<=10:\n",
    "    print(i)\n",
    "    i=i+1"
   ]
  },
  {
   "cell_type": "markdown",
   "id": "856b57b8",
   "metadata": {},
   "source": [
    "# program to print sum of first ten no"
   ]
  },
  {
   "cell_type": "code",
   "execution_count": null,
   "id": "e122bc4f",
   "metadata": {},
   "outputs": [],
   "source": [
    "i=1\n",
    "add=0\n",
    "while i<=10:\n",
    "    add=add+i\n",
    "    i=i+1\n",
    "print(add)"
   ]
  },
  {
   "cell_type": "markdown",
   "id": "aa8e62e4",
   "metadata": {},
   "source": [
    "# print sum of n number"
   ]
  },
  {
   "cell_type": "code",
   "execution_count": null,
   "id": "4f6a50dc",
   "metadata": {},
   "outputs": [],
   "source": [
    "i=1\n",
    "n=int(input (\"enter the number\"))\n",
    "add=0\n",
    "while i<=n:\n",
    "    add=add+i\n",
    "    i=i+1\n",
    "    print(add)"
   ]
  },
  {
   "cell_type": "markdown",
   "id": "019ee439",
   "metadata": {},
   "source": [
    "# program to print table of number"
   ]
  },
  {
   "cell_type": "code",
   "execution_count": 1,
   "id": "c036dbb4",
   "metadata": {},
   "outputs": [
    {
     "name": "stdout",
     "output_type": "stream",
     "text": [
      "enter any number3\n",
      "3 * 1 = 3\n",
      "3 * 2 = 6\n",
      "3 * 3 = 9\n",
      "3 * 4 = 12\n",
      "3 * 5 = 15\n",
      "3 * 6 = 18\n",
      "3 * 7 = 21\n",
      "3 * 8 = 24\n",
      "3 * 9 = 27\n",
      "3 * 10 = 30\n"
     ]
    }
   ],
   "source": [
    "n=int(input(\"enter any number\"))\n",
    "i=1\n",
    "while i<=10:\n",
    "    print(n,\"*\",i, \"=\",n*i)\n",
    "    i+=1"
   ]
  },
  {
   "cell_type": "markdown",
   "id": "4b220058",
   "metadata": {},
   "source": [
    "# program to calculate factorial"
   ]
  },
  {
   "cell_type": "code",
   "execution_count": 5,
   "id": "41bbbc67",
   "metadata": {},
   "outputs": [
    {
     "name": "stdout",
     "output_type": "stream",
     "text": [
      "enter any num7\n",
      "factorial= 7\n",
      "factorial= 42\n",
      "factorial= 210\n",
      "factorial= 840\n",
      "factorial= 2520\n",
      "factorial= 5040\n",
      "factorial= 5040\n"
     ]
    }
   ],
   "source": [
    "i=int(input(\"enter any num\"))\n",
    "fac=1\n",
    "while i>0:\n",
    "    fac=fac*i\n",
    "    i=i-1\n",
    "    print(\"factorial=\",fac)"
   ]
  },
  {
   "cell_type": "markdown",
   "id": "1ee19211",
   "metadata": {},
   "source": [
    "# print even no between 1 to 100"
   ]
  },
  {
   "cell_type": "code",
   "execution_count": 7,
   "id": "3eed2935",
   "metadata": {},
   "outputs": [
    {
     "name": "stdout",
     "output_type": "stream",
     "text": [
      "enter any num3\n",
      "2\n",
      "4\n",
      "6\n",
      "8\n",
      "10\n",
      "12\n",
      "14\n",
      "16\n",
      "18\n",
      "20\n",
      "22\n",
      "24\n",
      "26\n",
      "28\n",
      "30\n",
      "32\n",
      "34\n",
      "36\n",
      "38\n",
      "40\n",
      "42\n",
      "44\n",
      "46\n",
      "48\n",
      "50\n",
      "52\n",
      "54\n",
      "56\n",
      "58\n",
      "60\n",
      "62\n",
      "64\n",
      "66\n",
      "68\n",
      "70\n",
      "72\n",
      "74\n",
      "76\n",
      "78\n",
      "80\n",
      "82\n",
      "84\n",
      "86\n",
      "88\n",
      "90\n",
      "92\n",
      "94\n",
      "96\n",
      "98\n",
      "100\n"
     ]
    }
   ],
   "source": [
    "n=int(input(\"enter any num\"))\n",
    "i=2\n",
    "while i<=100:\n",
    "    if i%2==0:\n",
    "        print(i)\n",
    "    i=i+1"
   ]
  },
  {
   "cell_type": "markdown",
   "id": "5a37466a",
   "metadata": {},
   "source": [
    "# print odd no between 1 to 100"
   ]
  },
  {
   "cell_type": "code",
   "execution_count": 8,
   "id": "07110ad4",
   "metadata": {},
   "outputs": [
    {
     "name": "stdout",
     "output_type": "stream",
     "text": [
      "enter any num3\n",
      "1\n",
      "3\n",
      "5\n",
      "7\n",
      "9\n",
      "11\n",
      "13\n",
      "15\n",
      "17\n",
      "19\n",
      "21\n",
      "23\n",
      "25\n",
      "27\n",
      "29\n",
      "31\n",
      "33\n",
      "35\n",
      "37\n",
      "39\n",
      "41\n",
      "43\n",
      "45\n",
      "47\n",
      "49\n",
      "51\n",
      "53\n",
      "55\n",
      "57\n",
      "59\n",
      "61\n",
      "63\n",
      "65\n",
      "67\n",
      "69\n",
      "71\n",
      "73\n",
      "75\n",
      "77\n",
      "79\n",
      "81\n",
      "83\n",
      "85\n",
      "87\n",
      "89\n",
      "91\n",
      "93\n",
      "95\n",
      "97\n",
      "99\n"
     ]
    }
   ],
   "source": [
    "n=int(input(\"enter any num\"))\n",
    "i=1\n",
    "while i<=100:\n",
    "    if i%2!=0:\n",
    "        print(i)\n",
    "    i=i+1\n",
    " "
   ]
  },
  {
   "cell_type": "code",
   "execution_count": null,
   "id": "6d7b4ec0",
   "metadata": {},
   "outputs": [],
   "source": [
    "print sum of n numbers"
   ]
  },
  {
   "cell_type": "code",
   "execution_count": 13,
   "id": "4f382d9a",
   "metadata": {},
   "outputs": [
    {
     "name": "stdout",
     "output_type": "stream",
     "text": [
      "enter any num5\n",
      "add= 15\n"
     ]
    }
   ],
   "source": [
    "n=int(input(\"enter any num\"))\n",
    "i=1\n",
    "add=0\n",
    "while i<=n:\n",
    "    add=add+i\n",
    "    i=i+1\n",
    "print(\"add=\",add)"
   ]
  },
  {
   "cell_type": "markdown",
   "id": "796e07a0",
   "metadata": {},
   "source": [
    "# palidrome or not"
   ]
  },
  {
   "cell_type": "code",
   "execution_count": 14,
   "id": "d001e041",
   "metadata": {},
   "outputs": [
    {
     "name": "stdout",
     "output_type": "stream",
     "text": [
      "enter any num252\n",
      "palindrome num\n"
     ]
    }
   ],
   "source": [
    "n=int(input(\"enter any num\"))\n",
    "rev=0\n",
    "x=i\n",
    "while(i>0):\n",
    "    rev=(rev*10+i%10)\n",
    "    i=i//10\n",
    "if(x==rev):\n",
    "    print(\"palindrome num\")\n",
    "else:\n",
    "    print(\"not palindrome num\")"
   ]
  },
  {
   "cell_type": "code",
   "execution_count": null,
   "id": "e3985630",
   "metadata": {},
   "outputs": [],
   "source": []
  },
  {
   "cell_type": "code",
   "execution_count": null,
   "id": "d7333eb3",
   "metadata": {},
   "outputs": [],
   "source": []
  },
  {
   "cell_type": "code",
   "execution_count": null,
   "id": "9ade1da3",
   "metadata": {},
   "outputs": [],
   "source": []
  },
  {
   "cell_type": "code",
   "execution_count": null,
   "id": "93cb8c4e",
   "metadata": {},
   "outputs": [],
   "source": []
  },
  {
   "cell_type": "code",
   "execution_count": null,
   "id": "d79a6ba6",
   "metadata": {},
   "outputs": [],
   "source": []
  },
  {
   "cell_type": "code",
   "execution_count": null,
   "id": "27e96bb2",
   "metadata": {},
   "outputs": [],
   "source": []
  },
  {
   "cell_type": "code",
   "execution_count": null,
   "id": "e82ab91c",
   "metadata": {},
   "outputs": [],
   "source": []
  }
 ],
 "metadata": {
  "kernelspec": {
   "display_name": "Python 3 (ipykernel)",
   "language": "python",
   "name": "python3"
  },
  "language_info": {
   "codemirror_mode": {
    "name": "ipython",
    "version": 3
   },
   "file_extension": ".py",
   "mimetype": "text/x-python",
   "name": "python",
   "nbconvert_exporter": "python",
   "pygments_lexer": "ipython3",
   "version": "3.9.12"
  }
 },
 "nbformat": 4,
 "nbformat_minor": 5
}
