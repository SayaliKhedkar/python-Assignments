{
 "cells": [
  {
   "cell_type": "markdown",
   "id": "15d4db68",
   "metadata": {},
   "source": [
    "# Write a function to find the max of three numbers."
   ]
  },
  {
   "cell_type": "code",
   "execution_count": 1,
   "id": "34056bcf",
   "metadata": {},
   "outputs": [
    {
     "name": "stdout",
     "output_type": "stream",
     "text": [
      "Enter num1 number: 89\n",
      "Enter num2 number: 99\n",
      "Enter num3 number: 90\n",
      "Maximum of 3 numbers is:  99\n"
     ]
    }
   ],
   "source": [
    "num1=int(input('Enter num1 number: '))\n",
    "num2=int(input('Enter num2 number: '))\n",
    "num3=int(input('Enter num3 number: '))\n",
    "def maximum(x,y,z):\n",
    "    print('Maximum of 3 numbers is: ',max(x,y,z))\n",
    "maximum(num1,num2,num3)"
   ]
  },
  {
   "cell_type": "markdown",
   "id": "e041b13b",
   "metadata": {},
   "source": [
    "# Write a function to sum all the numbers in a list."
   ]
  },
  {
   "cell_type": "code",
   "execution_count": 2,
   "id": "c9dd502e",
   "metadata": {},
   "outputs": [
    {
     "name": "stdout",
     "output_type": "stream",
     "text": [
      "6\n"
     ]
    }
   ],
   "source": [
    "def sum_list(iteams):\n",
    "    sum_numbers=0\n",
    "    for x in iteams:\n",
    "        sum_numbers +=x\n",
    "    return sum_numbers\n",
    "print(sum_list([1,2,3]))"
   ]
  },
  {
   "cell_type": "markdown",
   "id": "7d268699",
   "metadata": {},
   "source": [
    "# Write a function to multiply all the numbers in a list."
   ]
  },
  {
   "cell_type": "code",
   "execution_count": 3,
   "id": "439a5a6e",
   "metadata": {},
   "outputs": [
    {
     "name": "stdout",
     "output_type": "stream",
     "text": [
      "180\n"
     ]
    }
   ],
   "source": [
    "def list_multiply(numbers):\n",
    "    product = 1\n",
    "    for number in numbers:\n",
    "        product = product * number\n",
    "    return product\n",
    "list1= [2,3,5,6]\n",
    "\n",
    "print(list_multiply(list1))"
   ]
  },
  {
   "cell_type": "markdown",
   "id": "6aab1a88",
   "metadata": {},
   "source": [
    "# Write a function to reverse a string."
   ]
  },
  {
   "cell_type": "code",
   "execution_count": 4,
   "id": "8e5ffa69",
   "metadata": {},
   "outputs": [
    {
     "name": "stdout",
     "output_type": "stream",
     "text": [
      "Enter the string: 7,9,0,7,58,9\n",
      "Reverse of the string is:  9,85,7,0,9,7\n"
     ]
    }
   ],
   "source": [
    "def st(x):\n",
    "    m=x[::-1]\n",
    "    print('Reverse of the string is: ',m)\n",
    "\n",
    "n=input('Enter the string: ')\n",
    "st(n)"
   ]
  },
  {
   "cell_type": "markdown",
   "id": "161eb2a9",
   "metadata": {},
   "source": [
    "# Write a function to calculte the factorial of a number."
   ]
  },
  {
   "cell_type": "code",
   "execution_count": 5,
   "id": "24c1aca2",
   "metadata": {},
   "outputs": [
    {
     "name": "stdout",
     "output_type": "stream",
     "text": [
      "enter any number12\n",
      "factorial of 12 is 479001600\n"
     ]
    }
   ],
   "source": [
    "def factorial(a):\n",
    "    fact = 1\n",
    "    for i in range(a,0,-1):\n",
    "        fact=fact*i\n",
    "    return fact\n",
    "n=int(input(\"enter any number\"))\n",
    "res=factorial(n)\n",
    "print(\"factorial of\",n,\"is\",res)"
   ]
  },
  {
   "cell_type": "markdown",
   "id": "c2b8c241",
   "metadata": {},
   "source": [
    "# Write a Function that accepts a string and calculate the number of uppercase letters and lowercase letters."
   ]
  },
  {
   "cell_type": "code",
   "execution_count": 6,
   "id": "65914994",
   "metadata": {},
   "outputs": [
    {
     "name": "stdout",
     "output_type": "stream",
     "text": [
      "Enter the string: Hey there i am sayali\n",
      "Uppercase letters:  1\n",
      "Lowercase letters:  20\n"
     ]
    }
   ],
   "source": [
    "def upper_lower(x):\n",
    "    c1=0\n",
    "    c2=0\n",
    "    i=0\n",
    "    while i<len(x):\n",
    "        if x[i].isupper()==True:\n",
    "            c1+=1\n",
    "        else:\n",
    "            c2+=1\n",
    "        i+=1\n",
    "    print('Uppercase letters: ',c1)\n",
    "    print('Lowercase letters: ',c2)\n",
    "\n",
    "n=input('Enter the string: ')\n",
    "upper_lower(n)"
   ]
  },
  {
   "cell_type": "markdown",
   "id": "7cb20d02",
   "metadata": {},
   "source": [
    "# Write a Function that takes a list and returns a new list with unique elements of the first list."
   ]
  },
  {
   "cell_type": "code",
   "execution_count": 7,
   "id": "673af81e",
   "metadata": {},
   "outputs": [
    {
     "name": "stdout",
     "output_type": "stream",
     "text": [
      "Enter list elements: 5,6,7,8,4,3,5,'y','jj'\n",
      "Entered list:  [\"5,6,7,8,4,3,5,'y','jj'\"]\n",
      "Unique elements of list are:  [\"5,6,7,8,4,3,5,'y','jj'\"]\n"
     ]
    }
   ],
   "source": [
    "def unique(x):\n",
    "    l1=[]\n",
    "    print('Entered list: ',x)\n",
    "    for i in x:\n",
    "        if i not in l1:\n",
    "            l1.append(i)\n",
    "    print('Unique elements of list are: ',l1)\n",
    "\n",
    "n=input('Enter list elements: ').split()\n",
    "unique(n)"
   ]
  },
  {
   "cell_type": "code",
   "execution_count": null,
   "id": "2fb8dec3",
   "metadata": {},
   "outputs": [],
   "source": []
  }
 ],
 "metadata": {
  "kernelspec": {
   "display_name": "Python 3 (ipykernel)",
   "language": "python",
   "name": "python3"
  },
  "language_info": {
   "codemirror_mode": {
    "name": "ipython",
    "version": 3
   },
   "file_extension": ".py",
   "mimetype": "text/x-python",
   "name": "python",
   "nbconvert_exporter": "python",
   "pygments_lexer": "ipython3",
   "version": "3.9.12"
  }
 },
 "nbformat": 4,
 "nbformat_minor": 5
}
