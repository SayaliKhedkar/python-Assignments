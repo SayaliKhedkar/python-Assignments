{
 "cells": [
  {
   "cell_type": "markdown",
   "id": "12f775ba",
   "metadata": {},
   "source": [
    "# Program to calculat length of string"
   ]
  },
  {
   "cell_type": "code",
   "execution_count": 3,
   "id": "3ba0353e",
   "metadata": {},
   "outputs": [
    {
     "data": {
      "text/plain": [
       "14"
      ]
     },
     "execution_count": 3,
     "metadata": {},
     "output_type": "execute_result"
    }
   ],
   "source": [
    "str1=\"welcome sayali\"\n",
    "len(str1)"
   ]
  },
  {
   "cell_type": "markdown",
   "id": "deee4ddb",
   "metadata": {},
   "source": [
    "# program to count no of characters in string"
   ]
  },
  {
   "cell_type": "code",
   "execution_count": 6,
   "id": "47ce66f5",
   "metadata": {},
   "outputs": [
    {
     "name": "stdout",
     "output_type": "stream",
     "text": [
      "1\n"
     ]
    }
   ],
   "source": [
    "s=\"how are you?\"\n",
    "count=s.count(\"r\")\n",
    "print(count)"
   ]
  },
  {
   "cell_type": "code",
   "execution_count": 7,
   "id": "1b2fc437",
   "metadata": {},
   "outputs": [
    {
     "name": "stdout",
     "output_type": "stream",
     "text": [
      "12\n"
     ]
    }
   ],
   "source": [
    "s=\"how are you?\"\n",
    "count=0\n",
    "for i in s:\n",
    "    count=count+1\n",
    "print(count)"
   ]
  },
  {
   "cell_type": "markdown",
   "id": "63901465",
   "metadata": {},
   "source": [
    "# program to check whether a given string is palindrome or not."
   ]
  },
  {
   "cell_type": "code",
   "execution_count": 1,
   "id": "adda949f",
   "metadata": {},
   "outputs": [
    {
     "name": "stdout",
     "output_type": "stream",
     "text": [
      "enter string:huh\n",
      "String is palindrome\n"
     ]
    }
   ],
   "source": [
    "str1 = input('enter string:')\n",
    "str2 = str1[::-1]\n",
    "if str2==str1:\n",
    "    print('String is palindrome')\n",
    "else :\n",
    "    print('String is not a palindrome')"
   ]
  },
  {
   "cell_type": "markdown",
   "id": "71277bfc",
   "metadata": {},
   "source": [
    "# program that takes input from user and displays that input back in upper and lower cases."
   ]
  },
  {
   "cell_type": "code",
   "execution_count": 2,
   "id": "31d06a3b",
   "metadata": {},
   "outputs": [
    {
     "name": "stdout",
     "output_type": "stream",
     "text": [
      "Hello Sayali = Hello Sayali\n",
      "String in UPPER Case :  HELLO SAYALI\n",
      "String in lower Case :  hello sayali\n"
     ]
    }
   ],
   "source": [
    "str1 = input('Hello Sayali = ')\n",
    "print('String in UPPER Case : ',str1.upper())\n",
    "print('String in lower Case : ',str1.lower())"
   ]
  },
  {
   "cell_type": "markdown",
   "id": "44f6e2b3",
   "metadata": {},
   "source": [
    "# program that accepts a comma seperated sequence of words as input and print the unique words in sorted form"
   ]
  },
  {
   "cell_type": "code",
   "execution_count": 3,
   "id": "2608c324",
   "metadata": {},
   "outputs": [
    {
     "name": "stdout",
     "output_type": "stream",
     "text": [
      "enter string:useful\n",
      "reverse of string = lufesu\n"
     ]
    }
   ],
   "source": [
    "str1 = input('enter string:')\n",
    "str2 = str1[::-1]\n",
    "print('reverse of string =', str2)"
   ]
  },
  {
   "cell_type": "code",
   "execution_count": null,
   "id": "5d432c33",
   "metadata": {},
   "outputs": [],
   "source": []
  }
 ],
 "metadata": {
  "kernelspec": {
   "display_name": "Python 3 (ipykernel)",
   "language": "python",
   "name": "python3"
  },
  "language_info": {
   "codemirror_mode": {
    "name": "ipython",
    "version": 3
   },
   "file_extension": ".py",
   "mimetype": "text/x-python",
   "name": "python",
   "nbconvert_exporter": "python",
   "pygments_lexer": "ipython3",
   "version": "3.9.12"
  }
 },
 "nbformat": 4,
 "nbformat_minor": 5
}
