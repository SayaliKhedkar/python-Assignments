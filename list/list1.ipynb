{
 "cells": [
  {
   "cell_type": "markdown",
   "id": "2a43ca2e",
   "metadata": {},
   "source": [
    "# Sum of all items in a list"
   ]
  },
  {
   "cell_type": "code",
   "execution_count": 2,
   "id": "63620ad0",
   "metadata": {},
   "outputs": [
    {
     "name": "stdout",
     "output_type": "stream",
     "text": [
      "sum of all elements in given list: 234\n"
     ]
    }
   ],
   "source": [
    "my_list=[44,56,76,23,35]\n",
    "total=sum(my_list)\n",
    "print(\"sum of all elements in given list:\",total)"
   ]
  },
  {
   "cell_type": "markdown",
   "id": "f8412e88",
   "metadata": {},
   "source": [
    "# Multiply all items in list"
   ]
  },
  {
   "cell_type": "code",
   "execution_count": 3,
   "id": "7e6cff5d",
   "metadata": {},
   "outputs": [
    {
     "name": "stdout",
     "output_type": "stream",
     "text": [
      "multiplication of list = 168\n"
     ]
    }
   ],
   "source": [
    "n = [6,4,7]\n",
    "mul = n[0]*n[1]*n[2]\n",
    "print('multiplication of list =', mul)"
   ]
  },
  {
   "cell_type": "markdown",
   "id": "372d1bec",
   "metadata": {},
   "source": [
    "# Largest no in list"
   ]
  },
  {
   "cell_type": "code",
   "execution_count": 5,
   "id": "c9d49238",
   "metadata": {},
   "outputs": [
    {
     "name": "stdout",
     "output_type": "stream",
     "text": [
      "[100, 12, 45]\n",
      "Largest number in list = 100\n"
     ]
    }
   ],
   "source": [
    "n = [100,12,45]\n",
    "print(n)\n",
    "print('Largest number in list =', max(n))"
   ]
  },
  {
   "cell_type": "markdown",
   "id": "f6ca6516",
   "metadata": {},
   "source": [
    "# Smallest no in list"
   ]
  },
  {
   "cell_type": "code",
   "execution_count": 6,
   "id": "9f7561c6",
   "metadata": {},
   "outputs": [
    {
     "name": "stdout",
     "output_type": "stream",
     "text": [
      "[100, 12, 45]\n",
      "Smallest number in list = 12\n"
     ]
    }
   ],
   "source": [
    "n = [100,12,45]\n",
    "print(n)\n",
    "print('Smallest number in list =', min(n))"
   ]
  },
  {
   "cell_type": "markdown",
   "id": "4ecd5d0d",
   "metadata": {},
   "source": [
    "# count of strings in list"
   ]
  },
  {
   "cell_type": "code",
   "execution_count": 8,
   "id": "43e7a2b6",
   "metadata": {},
   "outputs": [
    {
     "name": "stdout",
     "output_type": "stream",
     "text": [
      "number of strings in list = 5\n"
     ]
    }
   ],
   "source": [
    "list = [6,3,3,2,9]\n",
    "count = 0\n",
    "i = 0\n",
    "for i in range(len(list)):\n",
    "    count += 1\n",
    "print('number of strings in list =', count)"
   ]
  },
  {
   "cell_type": "code",
   "execution_count": null,
   "id": "f9387738",
   "metadata": {},
   "outputs": [],
   "source": []
  }
 ],
 "metadata": {
  "kernelspec": {
   "display_name": "Python 3 (ipykernel)",
   "language": "python",
   "name": "python3"
  },
  "language_info": {
   "codemirror_mode": {
    "name": "ipython",
    "version": 3
   },
   "file_extension": ".py",
   "mimetype": "text/x-python",
   "name": "python",
   "nbconvert_exporter": "python",
   "pygments_lexer": "ipython3",
   "version": "3.9.12"
  }
 },
 "nbformat": 4,
 "nbformat_minor": 5
}
