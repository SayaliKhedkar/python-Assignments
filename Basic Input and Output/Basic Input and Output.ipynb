{
 "cells": [
  {
   "cell_type": "markdown",
   "id": "10586e38",
   "metadata": {},
   "source": [
    "# Introduction"
   ]
  },
  {
   "cell_type": "code",
   "execution_count": 1,
   "id": "db0187d5",
   "metadata": {},
   "outputs": [
    {
     "name": "stdout",
     "output_type": "stream",
     "text": [
      "hello sayali welcome to python\n"
     ]
    }
   ],
   "source": [
    "print(\"hello sayali welcome to python\")"
   ]
  },
  {
   "cell_type": "markdown",
   "id": "5bee2382",
   "metadata": {},
   "source": [
    "# Addition"
   ]
  },
  {
   "cell_type": "code",
   "execution_count": 2,
   "id": "504b30c7",
   "metadata": {},
   "outputs": [
    {
     "name": "stdout",
     "output_type": "stream",
     "text": [
      "enter n12\n",
      "enter n23\n",
      "add = 5\n"
     ]
    }
   ],
   "source": [
    "n1=int(input(\"enter n1\"))\n",
    "n2=int(input(\"enter n2\"))\n",
    "add=n1+n2\n",
    "print(\"add =\",add)"
   ]
  },
  {
   "cell_type": "markdown",
   "id": "e927e2f9",
   "metadata": {},
   "source": [
    "# Subtraction"
   ]
  },
  {
   "cell_type": "code",
   "execution_count": 4,
   "id": "ef8efc1d",
   "metadata": {},
   "outputs": [
    {
     "name": "stdout",
     "output_type": "stream",
     "text": [
      "enter m1:3\n",
      "enter m2:7\n",
      "sub= -4\n"
     ]
    }
   ],
   "source": [
    "m1=int(input('enter m1:'))\n",
    "m2=int(input('enter m2:'))\n",
    "sub=m1-m2\n",
    "print('sub=',sub)"
   ]
  },
  {
   "cell_type": "markdown",
   "id": "082e9a39",
   "metadata": {},
   "source": [
    "# Division"
   ]
  },
  {
   "cell_type": "code",
   "execution_count": 5,
   "id": "6902fead",
   "metadata": {},
   "outputs": [
    {
     "name": "stdout",
     "output_type": "stream",
     "text": [
      "enter d1:10\n",
      "enter d2:5\n",
      "div= 2.0\n"
     ]
    }
   ],
   "source": [
    "d1=int(input('enter d1:'))\n",
    "d2=int(input('enter d2:'))\n",
    "div=d1/d2\n",
    "print('div=',div)"
   ]
  },
  {
   "cell_type": "markdown",
   "id": "3b21ca2b",
   "metadata": {},
   "source": [
    "# Multiplication"
   ]
  },
  {
   "cell_type": "code",
   "execution_count": 6,
   "id": "538d49fc",
   "metadata": {},
   "outputs": [
    {
     "name": "stdout",
     "output_type": "stream",
     "text": [
      "enter m1:4\n",
      "enter m2:5\n",
      "mul= 20\n"
     ]
    }
   ],
   "source": [
    "m1=int(input('enter m1:'))\n",
    "m2=int(input('enter m2:'))\n",
    "mul=m1*m2\n",
    "print('mul=',mul)"
   ]
  },
  {
   "cell_type": "markdown",
   "id": "0d5e8cd9",
   "metadata": {},
   "source": [
    "# Modulus"
   ]
  },
  {
   "cell_type": "code",
   "execution_count": 7,
   "id": "f067a3f1",
   "metadata": {},
   "outputs": [
    {
     "name": "stdout",
     "output_type": "stream",
     "text": [
      "enter m1:4\n",
      "enter m2:2\n",
      "rem= 0\n"
     ]
    }
   ],
   "source": [
    "m1=int(input('enter m1:'))\n",
    "m2=int(input('enter m2:'))\n",
    "rem=m1%m2\n",
    "print('rem=',rem)"
   ]
  },
  {
   "cell_type": "markdown",
   "id": "d94cf2f7",
   "metadata": {},
   "source": [
    "# Exponent"
   ]
  },
  {
   "cell_type": "code",
   "execution_count": 8,
   "id": "f820b0f8",
   "metadata": {},
   "outputs": [
    {
     "name": "stdout",
     "output_type": "stream",
     "text": [
      "enter d1:6\n",
      "enter d2:3\n",
      "exp= 216\n"
     ]
    }
   ],
   "source": [
    "d1=int(input('enter d1:'))\n",
    "d2=int(input('enter d2:'))\n",
    "exp=d1**d2\n",
    "print('exp=',exp)"
   ]
  },
  {
   "cell_type": "code",
   "execution_count": null,
   "id": "01faa004",
   "metadata": {},
   "outputs": [],
   "source": []
  }
 ],
 "metadata": {
  "kernelspec": {
   "display_name": "Python 3 (ipykernel)",
   "language": "python",
   "name": "python3"
  },
  "language_info": {
   "codemirror_mode": {
    "name": "ipython",
    "version": 3
   },
   "file_extension": ".py",
   "mimetype": "text/x-python",
   "name": "python",
   "nbconvert_exporter": "python",
   "pygments_lexer": "ipython3",
   "version": "3.9.12"
  }
 },
 "nbformat": 4,
 "nbformat_minor": 5
}
