{
 "cells": [
  {
   "cell_type": "markdown",
   "id": "0010929a",
   "metadata": {},
   "source": [
    "# check if it square or not"
   ]
  },
  {
   "cell_type": "code",
   "execution_count": 2,
   "id": "ca70c441",
   "metadata": {},
   "outputs": [
    {
     "name": "stdout",
     "output_type": "stream",
     "text": [
      "Enter length 7\n",
      "Enter breadth 8\n",
      "No, its a rectangle\n"
     ]
    }
   ],
   "source": [
    "lenght=int(input(\"Enter length \"))\n",
    "breadth=int(input(\"Enter breadth \"))\n",
    "if lenght == breadth:\n",
    "    print(\"Yes, it is square\")\n",
    "else:\n",
    "    print(\"No, its a rectangle\")"
   ]
  },
  {
   "cell_type": "markdown",
   "id": "9f7e82ed",
   "metadata": {},
   "source": [
    "# check for net bonus amount"
   ]
  },
  {
   "cell_type": "code",
   "execution_count": 3,
   "id": "864d1788",
   "metadata": {},
   "outputs": [
    {
     "name": "stdout",
     "output_type": "stream",
     "text": [
      "Enter a Salary70000\n",
      "Enter a Exper in years5\n",
      "Net bonus Amount 3500.0\n"
     ]
    }
   ],
   "source": [
    "n=int(input(\"Enter a Salary\"))\n",
    "m=int(input(\"Enter a Exper in years\"))\n",
    "N=n*0.05\n",
    "if m>=5:\n",
    "    print(\"Net bonus Amount\", N)\n",
    "else:\n",
    "    print(\"NO bonus\")"
   ]
  },
  {
   "cell_type": "markdown",
   "id": "a8cd47a3",
   "metadata": {},
   "source": [
    "# Determine oldest and youngest among three people"
   ]
  },
  {
   "cell_type": "code",
   "execution_count": 5,
   "id": "ab482f35",
   "metadata": {},
   "outputs": [
    {
     "name": "stdout",
     "output_type": "stream",
     "text": [
      "Enter first age :54\n",
      "Enter second age :43\n",
      "third age :23\n",
      "Oldest is 54\n"
     ]
    }
   ],
   "source": [
    "f = int(input(\"Enter first age :\"))\n",
    "s = int(input(\"Enter second age :\"))\n",
    "t = int(input(\"third age :\"))\n",
    "if f >= s and f >= t:\n",
    "    print(\"Oldest is\", f)\n",
    "elif s >= f and s >= t:\n",
    "    print(\"Oldest is\", s)\n",
    "elif t >= f and t >= s:\n",
    "    print(\"Oldest is\", t)\n",
    "else:\n",
    "    print(\"All are same\")"
   ]
  },
  {
   "cell_type": "code",
   "execution_count": null,
   "id": "a947698e",
   "metadata": {},
   "outputs": [],
   "source": []
  },
  {
   "cell_type": "code",
   "execution_count": null,
   "id": "83606e57",
   "metadata": {},
   "outputs": [],
   "source": []
  }
 ],
 "metadata": {
  "kernelspec": {
   "display_name": "Python 3 (ipykernel)",
   "language": "python",
   "name": "python3"
  },
  "language_info": {
   "codemirror_mode": {
    "name": "ipython",
    "version": 3
   },
   "file_extension": ".py",
   "mimetype": "text/x-python",
   "name": "python",
   "nbconvert_exporter": "python",
   "pygments_lexer": "ipython3",
   "version": "3.9.12"
  }
 },
 "nbformat": 4,
 "nbformat_minor": 5
}
